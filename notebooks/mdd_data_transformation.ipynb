{
 "cells": [
  {
   "cell_type": "markdown",
   "metadata": {
    "vscode": {
     "languageId": "plaintext"
    }
   },
   "source": [
    "# MarkdownDeck: Diagnostic Data Transformation & Testing Notebook\n",
    "\n",
    "**Version: 0.1.0 (Reflects state after recent API error fixes)**\n"
   ]
  },
  {
   "cell_type": "markdown",
   "metadata": {
    "vscode": {
     "languageId": "plaintext"
    }
   },
   "source": [
    "## 🎯 Purpose of This Notebook\n",
    "\n",
    "This Jupyter Notebook is designed as a **diagnostic and testing tool** for the `markdowndeck` Python package. Its primary functions are:\n",
    "1.  **Arbitrary Input Testing:** To allow developers and LLMs to input any Markdown string and trace its transformation through the entire MarkdownDeck pipeline.\n",
    "2.  **Intermediate State Inspection:** To provide detailed views (JSON dumps and visualizations) of the data structures at each critical stage of processing (parsing, layout, API request generation).\n",
    "3.  **Layout Debugging:** To visually inspect the calculated layout of slides and elements using the `markdowndeck.visualization` submodule, helping to diagnose issues like element overlap and incorrect placement.\n",
    "4.  **API Request Validation:** To examine the exact Google Slides API requests generated for a given Markdown input before they are sent, aiding in debugging API-level errors.\n",
    "5.  **Regression Testing Support:** To serve as a repeatable environment for testing changes to the MarkdownDeck library against known complex inputs.\n",
    "\n",
    "**This notebook is crucial for debugging layout/styling issues and understanding how specific Markdown inputs are processed.**"
   ]
  },
  {
   "cell_type": "markdown",
   "metadata": {
    "vscode": {
     "languageId": "plaintext"
    }
   },
   "source": [
    "## ⚙️ How to Run This Notebook\n",
    "1.  **Monorepo Context:** This notebook assumes it's being run from within the `arclio-mcp-tooling` monorepo structure.\n",
    "2.  **Virtual Environment:** Ensure your Python virtual environment is activated:\n",
    "    ```bash\n",
    "    # From arclio-mcp-tooling root:\n",
    "    source .venv/bin/activate\n",
    "    ```\n",
    "3.  **Editable Install:** `markdowndeck` should be installed in editable mode:\n",
    "    ```bash\n",
    "    # From arclio-mcp-tooling root:\n",
    "    make install-editable PKGS=\"markdowndeck\"\n",
    "    ```\n",
    "4.  **Jupyter Server:** Start Jupyter from the monorepo root:\n",
    "    ```bash\n",
    "    jupyter notebook\n",
    "    ```\n",
    "    Then, open this notebook file.\n",
    "5.  **Kernel:** Use the Python kernel associated with your virtual environment.\n",
    "6.  **Run Cells:** Execute cells sequentially. You can modify the Markdown input in Cell 2 to test different scenarios.\n"
   ]
  },
  {
   "cell_type": "markdown",
   "metadata": {
    "vscode": {
     "languageId": "plaintext"
    }
   },
   "source": [
    "## 🛠️ Initial Setup & Imports\n",
    "Import necessary libraries, configure logging, and define helper functions.\n"
   ]
  },
  {
   "cell_type": "code",
   "execution_count": 2,
   "metadata": {},
   "outputs": [
    {
     "name": "stdout",
     "output_type": "stream",
     "text": [
      "Adjusted sys.path. Relevant paths for import:\n",
      "  Project Root (assumed): /Users/e729/Workspace/Rizz-Buzz/arclio-mcp-tooling\n",
      "  Packages Directory: /Users/e729/Workspace/Rizz-Buzz/arclio-mcp-tooling/packages\n",
      "  MarkdownDeck Src: /Users/e729/Workspace/Rizz-Buzz/arclio-mcp-tooling/packages/markdowndeck/src\n",
      "\n",
      "✅ Diagnostic Setup Complete. Core components imported.\n"
     ]
    }
   ],
   "source": [
    "import os\n",
    "import sys\n",
    "import json\n",
    "import logging\n",
    "from copy import deepcopy\n",
    "import textwrap # For visualization text wrapping\n",
    "\n",
    "# --- Path Setup ---\n",
    "# Assuming the notebook is in a 'notebooks' subdirectory of the project root\n",
    "# Or directly in the project root if arclio-mcp-tooling is the project root.\n",
    "try:\n",
    "    project_root = os.path.abspath(os.path.join(os.path.dirname(__file__), \"..\"))\n",
    "except NameError:\n",
    "    project_root = os.path.abspath(os.path.join(os.getcwd(), \"..\"))\n",
    "\n",
    "packages_dir = os.path.join(project_root, \"packages\")\n",
    "markdowndeck_path = os.path.join(packages_dir, \"markdowndeck\", \"src\")\n",
    "\n",
    "if packages_dir not in sys.path:\n",
    "    sys.path.insert(0, packages_dir)\n",
    "if markdowndeck_path not in sys.path:\n",
    "    sys.path.insert(0, markdowndeck_path)\n",
    "\n",
    "print(f\"Adjusted sys.path. Relevant paths for import:\")\n",
    "print(f\"  Project Root (assumed): {project_root}\")\n",
    "print(f\"  Packages Directory: {packages_dir}\")\n",
    "print(f\"  MarkdownDeck Src: {markdowndeck_path}\")\n",
    "\n",
    "# Configure basic logging\n",
    "logging.basicConfig(level=logging.INFO, format=\"%(asctime)s - %(name)s - %(levelname)s - %(message)s\")\n",
    "# For more detailed debug output:\n",
    "logging.getLogger(\"markdowndeck.parser\").setLevel(logging.DEBUG)\n",
    "logging.getLogger(\"markdowndeck.parser.section.section_parser\").setLevel(logging.DEBUG) # Often useful\n",
    "logging.getLogger(\"markdowndeck.parser.content.content_parser\").setLevel(logging.DEBUG)\n",
    "logging.getLogger(\"markdowndeck.layout\").setLevel(logging.DEBUG)\n",
    "logging.getLogger(\"markdowndeck.layout.calculator.section_layout\").setLevel(logging.DEBUG) # Very verbose\n",
    "logging.getLogger(\"markdowndeck.api\").setLevel(logging.DEBUG)\n",
    "\n",
    "\n",
    "# Core MarkdownDeck components\n",
    "from markdowndeck.parser import Parser as MdDeckParser\n",
    "from markdowndeck.parser.slide_extractor import SlideExtractor\n",
    "# Other specific parsers can be imported if needed for granular checks, but MdDeckParser is the main entry.\n",
    "\n",
    "from markdowndeck.models import (\n",
    "    Deck, Slide, Section, Element, TextElement, ListElement, ListItem,\n",
    "    CodeElement, ImageElement, TableElement, TextFormat,\n",
    "    ElementType, SlideLayout, AlignmentType, VerticalAlignmentType, TextFormatType\n",
    ")\n",
    "\n",
    "from markdowndeck.layout import LayoutManager\n",
    "from markdowndeck.api import ApiRequestGenerator\n",
    "from markdowndeck.visualization import SlideVisualizer # For the enhanced visualizer\n",
    "\n",
    "# For pretty printing outputs\n",
    "def enhanced_json_default_for_diag(o):\n",
    "    if isinstance(o, (ElementType, SlideLayout, AlignmentType, VerticalAlignmentType, TextFormatType)):\n",
    "        return o.value\n",
    "    if hasattr(o, \"__dict__\"):\n",
    "        return o.__dict__\n",
    "    if isinstance(o, tuple): # Convert tuples (like position, size) to lists for JSON\n",
    "        return list(o)\n",
    "    try:\n",
    "        return str(o) # Fallback for other types\n",
    "    except Exception:\n",
    "        return f\"<Unserializable object: {type(o).__name__}>\"\n",
    "\n",
    "def pprint_obj_diag(obj, default_handler=enhanced_json_default_for_diag, indent=2):\n",
    "    try:\n",
    "        print(json.dumps(obj, default=default_handler, indent=indent))\n",
    "    except TypeError as e:\n",
    "        print(f\"Error during JSON serialization: {e}. Object: {obj}\")\n",
    "\n",
    "\n",
    "print(\"\\n✅ Diagnostic Setup Complete. Core components imported.\")\n"
   ]
  },
  {
   "cell_type": "markdown",
   "metadata": {},
   "source": [
    "## 📝 Input Markdown for Diagnosis\n",
    "\n",
    "Paste or define the Markdown content you want to diagnose in the cell below.\n",
    "By default, it uses the `example_real_world_markdown` which previously exhibited layout issues.\n"
   ]
  },
  {
   "cell_type": "code",
   "execution_count": 3,
   "metadata": {},
   "outputs": [
    {
     "name": "stdout",
     "output_type": "stream",
     "text": [
      "✅ Diagnostic Markdown Input loaded.\n",
      "------------------------------\n",
      "\n",
      "[background=url(https://images.unsplash.com/photo-1586165368502-1bad197a6461?ixlib=rb-1.2.1&auto=format&fit=crop&w=1920&h=1080&q=80)][color=white]\n",
      "# The Art of Chess: Beyond the Board\n",
      "[align=center][fontsize=36]\n",
      "\n",
      "Chess is not merely a game, but a canvas for strategic brilliance\n",
      "\n",
      "[align=center][fontsize=22]\n",
      "*Exploring the Beautiful Complexity of the Royal Game*\n",
      "\n",
      "<!-- notes: Begin with energy and passion. Establish that this presentation goes beyond basic chess rules - we're exploring the artistic and intellectual depths that make chess timeless. Pause briefly after the title to let the audience take in the beautiful backdrop. -->\n",
      "\n",
      "===\n",
      "\n",
      "[background=#1a1a1a][color=white]\n",
      "# The Invisible Architecture\n",
      "\n",
      "[width=45%][align=left][padding=20]\n",
      "## Chess Thinking is Pattern Recognition\n",
      "[fontsize=20]\n",
      "...\n",
      "------------------------------\n"
     ]
    }
   ],
   "source": [
    "# This is the Markdown that was causing layout issues (e.g., on slide 6 / \"Beyond the Board\")\n",
    "# and was also used in Cell 23 of the original exploration notebook.\n",
    "diagnostic_markdown_input = \"\"\"\n",
    "[background=url(https://images.unsplash.com/photo-1586165368502-1bad197a6461?ixlib=rb-1.2.1&auto=format&fit=crop&w=1920&h=1080&q=80)][color=white]\\n# The Art of Chess: Beyond the Board\\n[align=center][fontsize=36]\\n\\nChess is not merely a game, but a canvas for strategic brilliance\\n\\n[align=center][fontsize=22]\\n*Exploring the Beautiful Complexity of the Royal Game*\\n\\n<!-- notes: Begin with energy and passion. Establish that this presentation goes beyond basic chess rules - we\\'re exploring the artistic and intellectual depths that make chess timeless. Pause briefly after the title to let the audience take in the beautiful backdrop. -->\\n\\n===\\n\\n[background=#1a1a1a][color=white]\\n# The Invisible Architecture\\n\\n[width=45%][align=left][padding=20]\\n## Chess Thinking is Pattern Recognition\\n[fontsize=20]\\n- Grandmasters see the board differently\\n- Mental \"chunks\" of piece configurations\\n- Recognition of tactical motifs\\n- Positional understanding through patterns\\n\\n***\\n\\n[width=55%][align=right][background=url(https://images.unsplash.com/photo-1528819622765-d6bcf132f793?ixlib=rb-1.2.1&auto=format&fit=crop&w=1000&q=80)][background-opacity=0.8][padding=20]\\n\\n![Pattern Recognition in Chess](https://images.pexels.com/photos/5499902/pexels-photo-5499902.jpeg?auto=compress&cs=tinysrgb&w=600)\\n\\n<!-- notes: Explain how grandmasters don\\'t calculate every possible move but recognize patterns intuitively. The human brain processes chess positions as meaningful chunks rather than individual pieces. This pattern recognition is similar to how we recognize faces or language. Compare to how an artist sees color relationships or a musician hears harmonies. -->\\n\\n===\\n\\n[background=#2d1a47][color=white]\\n# The Tactical Symphony\\n[align=center][padding=10]\\n\\n[width=100%][align=center]\\n![Chess Tactics](https://images.pexels.com/photos/260024/pexels-photo-260024.jpeg?auto=compress&cs=tinysrgb&w=1200)\\n\\n---\\n\\n[width=30%][align=center][border=2pt solid #9966CC][padding=10][background=#3d2a57]\\n## Forks\\n[align=center]\\n![Knight Fork](https://www.chess.com/bundles/web/images/image-default.svg)\\n\\n***\\n\\n[width=30%][align=center][border=2pt solid #9966CC][padding=10][background=#3d2a57]\\n## Pins\\n[align=center]\\n![Bishop Pin](https://www.chess.com/bundles/web/images/image-default.svg)\\n\\n***\\n\\n[width=30%][align=center][border=2pt solid #9966CC][padding=10][background=#3d2a57]\\n## Skewers\\n[align=center]\\n![Queen Skewer](https://www.chess.com/bundles/web/images/image-default.svg)\\n\\n<!-- notes: Describe these tactical patterns as musical notes in a symphony. Each has its own character but combines to create beautiful combinations. Highlight how these simple tactical motifs intertwine to create complex combinations that can be breathtaking in their execution. Reference a famous tactical game like Kasparov vs. Topalov 1999 where multiple tactical themes converged. -->\\n\\n===\\n\\n[background=#0a2e5c][color=white]\\n# Strategic Imbalances: The Heart of Decision-Making\\n[align=center]\\n\\n[width=100%][align=center][padding=20]\\n[cell-align=center][border=1pt solid #4d88ff][background=#0e3978]\\n| Imbalance | White Advantage | Black Advantage |\\n|-----------|-----------------|-----------------|\\n| Material | Extra pawn | Extra exchange |\\n| Pawn Structure | Better pawn majority | No weaknesses |\\n| Space | Control of center | Counterattack potential |\\n| Development | Faster mobilization | Solid position |\\n| Initiative | Attacking chances | Defensive resources |\\n\\n<!-- notes: Explain how chess mastery is about understanding and creating imbalances. Quote Grandmaster Larry Kaufman: \"Chess is the management of imbalances.\" Emphasize that there is no perfect position - only trade-offs. The art of chess is navigating these imbalances to create positions where your advantages outweigh your disadvantages. This is where the true decision-making depth exists. -->\\n\\n===\\n\\n[background=url(https://images.unsplash.com/photo-1580541832626-2a7131ee809f?ixlib=rb-1.2.1&auto=format&fit=crop&w=1920&h=1080&q=80)][background-opacity=0.7][color=white]\\n# The Psychology of Chess\\n[align=center][padding=10]\\n\\n[width=48%][align=left][background=#1a1a1a][background-opacity=0.8][padding=20][border=2pt solid #ff3366]\\n## The Inner Game\\n[fontsize=20]\\n- Managing time pressure\\n- Dealing with mistakes\\n- Emotional resilience\\n- Preparation vs. intuition\\n- Recognizing psychological patterns\\n\\n***\\n\\n[width=48%][align=right][background=#1a1a1a][background-opacity=0.8][padding=20][border=2pt solid #33cc99]\\n## Famous Psychological Battles\\n[fontsize=20]\\n- Fischer vs. Spassky (1972)\\n- Kasparov vs. Karpov (1984-1985)\\n- Kasparov vs. Deep Blue (1997)\\n- Carlsen\\'s pressure technique\\n\\n<!-- notes: The psychological dimension of chess is perhaps its most human element. Discuss how champions like Magnus Carlsen deliberately choose \"boring\" positions to mentally exhaust opponents. Mention the concept of \"Zugzwang\" - being forced to make a move that worsens your position - as both a tactical pattern and psychological torture. This connection between mind and board is what makes chess a profound human experience. -->\\n\\n===\\n\\n[background=#1a472a][color=white]\\n# Opening Principles: The Chess Narrative\\n[align=center]\\n\\n[width=100%][align=center][padding=20]\\n[background=#2a5738][border=2pt solid #66cc66][padding=15]\\n## Three Phases of the Chess Story\\n\\n[width=30%][align=center][padding=10]\\n### Opening\\n- Development\\n- Center control\\n- King safety\\n- Preparation for middlegame\\n\\n***\\n\\n[width=30%][align=center][padding=10]\\n### Middlegame\\n- Tactical opportunities\\n- Strategic planning\\n- Pawn structure optimization\\n- Piece coordination\\n\\n***\\n\\n[width=30%][align=center][padding=10]\\n### Endgame\\n- Pawn promotion\\n- King activation\\n- Technical precision\\n- Mathematical certainty\\n\\n<!-- notes: Frame chess as a three-act narrative structure. The opening is like the introduction of characters and setting, the middlegame is the development of conflict, and the endgame is the resolution. Each phase has its own principles but connects to create a coherent story. The beauty of chess is that each game tells a unique story despite following the same rules - just like how novels follow narrative structures but tell different tales. -->\\n\\n===\\n\\n[background=url(https://images.unsplash.com/photo-1543092587-d8b8feaf362b?ixlib=rb-1.2.1&auto=format&fit=crop&w=1920&h=1080&q=80)][background-opacity=0.7][color=white]\\n# Endgame Brilliance: Chess at its Purest\\n[align=center]\\n\\n[width=50%][align=left][background=#000000][background-opacity=0.8][padding=20]\\n## The Elegance of Simplicity\\n[fontsize=20]\\n- King and pawn endgames\\n- The concept of opposition\\n- Zugzwang and tempo\\n- Triangulation technique\\n- The rule of the square\\n\\n***\\n\\n[width=50%][align=right][background=#000000][background-opacity=0.8][padding=20]\\n## Endgame Studies as Art\\n[fontsize=20][align=center]\\n\\n\"Chess is like life. Chess is life in miniature.\"\\n\\u2014 Garry Kasparov\\n\\n![Endgame Position](https://images.pexels.com/photos/276033/pexels-photo-276033.jpeg?auto=compress&cs=tinysrgb&w=1200)\\n\\n<!-- notes: Explain that endgames reveal the mathematical precision of chess. With fewer pieces, the beauty of pure calculation emerges. Describe the famous Lasker-Reichhelm position where white forces a win through zugzwang despite material equality. Endgame studies are like chess puzzles that reveal stunning geometric patterns and unexpected solutions. This is chess at its most elegant - where every move matters and precision is everything. -->\\n\\n===\\n\\n[background=#4e1c33][color=white]\\n# Chess Composition: Pure Artistic Expression\\n[align=center][padding=10]\\n\\n[width=45%][align=left][padding=20]\\n## Chess Problems\\n[fontsize=20]\\n- Mate in 2/3/more moves\\n- Retrograde analysis\\n- Helpmates and selfmates\\n- Aesthetic criteria:\\n  - Economy\\n  - Surprise\\n  - Uniqueness\\n  - Difficulty\\n\\n***\\n\\n[width=55%][align=right][padding=20]\\n![Chess Problem](https://images.pexels.com/photos/5499923/pexels-photo-5499923.jpeg?auto=compress&cs=tinysrgb&w=1200)\\n\\n**Example: White to move and mate in 2**\\n\\n<!-- notes: Chess composition is where chess becomes pure art. Unlike practical chess, compositions prioritize beauty over winning. Explain how composers create positions that would never arise in games but demonstrate beautiful mathematical patterns. Reference the criteria judges use in composition contests: economy (using minimal material), surprise (unexpected first moves), theme (unified ideas), and difficulty. This is chess elevated to art for art\\'s sake. -->\\n\\n===\\n\\n[background=#663300][color=white]\\n# Learning from the Masters\\n[align=center][padding=10]\\n\\n[width=100%][align=center][padding=15]\\n[background=#7a4012][border=2pt solid #cc9966][padding=15]\\n\\n[width=60%][align=left][padding=5]\\n## Timeless Wisdom from Chess Giants\\n[fontsize=20]\\n- Capablanca: \"To improve, study endgames\"\\n- Fischer: \"Tactics flow from a superior position\"\\n- Nimzowitsch: \"The threat is stronger than the execution\"\\n- Lasker: \"When you see a good move, look for a better one\"\\n- Tal: \"You must take your opponent into a deep dark forest where 2+2=5\"\\n\\n***\\n\\n[width=40%][align=right][padding=5]\\n![Chess Masters](https://images.pexels.com/photos/260024/pexels-photo-260024.jpeg?auto=compress&cs=tinysrgb&w=600)\\n\\n<!-- notes: These quotes encapsulate different approaches to chess mastery. Capablanca emphasized fundamentals, Fischer focused on positional preparation for tactics, Nimzowitsch discovered prophylaxis and threats, Lasker was pragmatic and psychological, and Tal was creative and sacrificial. Each master reveals a different facet of chess beauty. The diversity of valid approaches shows how chess accommodates different types of intelligence and creativity. -->\\n\\n===\\n\\n[background=#000000][color=white]\\n# The Universal Appeal: Chess Across Cultures\\n[align=center]\\n\\n[width=100%][align=center][padding=20]\\n![Chess Around the World](https://images.pexels.com/photos/5499924/pexels-photo-5499924.jpeg?auto=compress&cs=tinysrgb&w=1200)\\n\\n---\\n\\n[width=30%][align=center][background=#333333][border=2pt solid #3399ff][padding=10]\\n## Educational Benefits\\n- Critical thinking\\n- Planning abilities\\n- Pattern recognition\\n- Concentration\\n- Decision-making\\n\\n***\\n\\n[width=30%][align=center][background=#333333][border=2pt solid #ff6633][padding=10]\\n## Psychological Benefits\\n- Patience development\\n- Emotional control\\n- Self-confidence\\n- Sportsmanship\\n- Growth mindset\\n\\n***\\n\\n[width=30%][align=center][background=#333333][border=2pt solid #33cc33][padding=10]\\n## Social Benefits\\n- Cross-generational activity\\n- Cultural bridge\\n- Online communities\\n- Tournament camaraderie\\n- Inclusive accessibility\\n\\n<!-- notes: Chess transcends cultural, linguistic, and age barriers. Discuss how a Russian grandmaster can play a meaningful game with a Chinese schoolchild without sharing a word of language. Mention the educational benefits that have led to chess in schools worldwide. Touch on how chess provides cognitive benefits throughout life, potentially helping with cognitive decline in aging. The universal language of chess connects humans through pure thought. -->\\n\\n===\\n\\n[background=url(https://images.unsplash.com/photo-1582143633151-5a5905eeae0b?ixlib=rb-1.2.1&auto=format&fit=crop&w=1920&h=1080&q=80)][background-opacity=0.7][color=white]\\n# What Makes Chess Beautiful?\\n[align=center][fontsize=36][padding=20]\\n\\n[width=100%][align=center][background=#000000][background-opacity=0.7][padding=20][border=2pt solid #9933cc]\\n\\nChess combines the:\\n[fontsize=24]\\n- **Tactical precision** of mathematics\\n- **Strategic depth** of philosophy  \\n- **Psychological intensity** of sports\\n- **Creative expression** of art\\n- **Logical rigor** of science\\n- **Narrative structure** of literature\\n- **Universal language** of humanity\\n\\n<!-- notes: Conclude by synthesizing all previous slides. Chess is beautiful because it operates simultaneously on multiple levels: mathematical precision, strategic depth, psychological warfare, creative expression, logical rigor, narrative structure, and universal accessibility. It\\'s a microcosm of human thought and a mirror of the mind. Final thought: \"Perhaps chess endures because it offers us a rare glimpse of pure human potential - what we can accomplish with nothing but concentrated thought and imagination.\" -->\\n\n",
    "\"\"\"\n",
    "\n",
    "\n",
    "print(\"✅ Diagnostic Markdown Input loaded.\")\n",
    "print(\"-\" * 30)\n",
    "\n",
    "# Print only a preview if it's very long\n",
    "\n",
    "preview_lines = 20\n",
    "print(\"\\n\".join(diagnostic_markdown_input.splitlines()[:preview_lines])) if len(diagnostic_markdown_input.splitlines()) > preview_lines else None\n",
    "print(\"...\")\n",
    "print(\"-\" * 30)"
   ]
  },
  {
   "cell_type": "markdown",
   "metadata": {},
   "source": [
    "## ▶️ Pipeline Step 1: Slide Extraction\n",
    "\n",
    "The `SlideExtractor` splits the raw Markdown into a list of dictionaries, each representing a slide with its top-level attributes (title, content, footer, notes, background).\n"
   ]
  },
  {
   "cell_type": "code",
   "execution_count": 4,
   "metadata": {},
   "outputs": [
    {
     "name": "stderr",
     "output_type": "stream",
     "text": [
      "2025-05-14 22:13:04,967 - markdowndeck.parser.slide_extractor - DEBUG - Extracting slides from markdown\n",
      "2025-05-14 22:13:04,968 - markdowndeck.parser.slide_extractor - DEBUG - Added final slide content segment: 20 lines\n",
      "2025-05-14 22:13:04,969 - markdowndeck.parser.slide_extractor - DEBUG - Initial slide part count: 11\n"
     ]
    },
    {
     "ename": "IndexError",
     "evalue": "no such group",
     "output_type": "error",
     "traceback": [
      "\u001b[31m---------------------------------------------------------------------------\u001b[39m",
      "\u001b[31mIndexError\u001b[39m                                Traceback (most recent call last)",
      "\u001b[36mCell\u001b[39m\u001b[36m \u001b[39m\u001b[32mIn[4]\u001b[39m\u001b[32m, line 2\u001b[39m\n\u001b[32m      1\u001b[39m slide_extractor_diag = SlideExtractor()\n\u001b[32m----> \u001b[39m\u001b[32m2\u001b[39m raw_slides_data_diag = \u001b[43mslide_extractor_diag\u001b[49m\u001b[43m.\u001b[49m\u001b[43mextract_slides\u001b[49m\u001b[43m(\u001b[49m\u001b[43mdiagnostic_markdown_input\u001b[49m\u001b[43m)\u001b[49m\n\u001b[32m      4\u001b[39m \u001b[38;5;28mprint\u001b[39m(\u001b[33mf\u001b[39m\u001b[33m\"\u001b[39m\u001b[33mNumber of slides extracted: \u001b[39m\u001b[38;5;132;01m{\u001b[39;00m\u001b[38;5;28mlen\u001b[39m(raw_slides_data_diag)\u001b[38;5;132;01m}\u001b[39;00m\u001b[33m\"\u001b[39m)\n\u001b[32m      5\u001b[39m \u001b[38;5;66;03m# Optionally print the full raw_slides_data_diag for deep inspection:\u001b[39;00m\n\u001b[32m      6\u001b[39m \u001b[38;5;66;03m# print(\"\\n--- Full Raw Slides Data (Diagnostic) ---\")\u001b[39;00m\n\u001b[32m      7\u001b[39m \u001b[38;5;66;03m# pprint_obj_diag(raw_slides_data_diag)\u001b[39;00m\n\u001b[32m      8\u001b[39m \n\u001b[32m      9\u001b[39m \u001b[38;5;66;03m# Print summary of each extracted slide\u001b[39;00m\n",
      "\u001b[36mFile \u001b[39m\u001b[32m~/Workspace/Rizz-Buzz/arclio-mcp-tooling/packages/markdowndeck/src/markdowndeck/parser/slide_extractor.py:34\u001b[39m, in \u001b[36mSlideExtractor.extract_slides\u001b[39m\u001b[34m(self, markdown)\u001b[39m\n\u001b[32m     31\u001b[39m slides = []\n\u001b[32m     32\u001b[39m \u001b[38;5;28;01mfor\u001b[39;00m i, slide_content_part \u001b[38;5;129;01min\u001b[39;00m \u001b[38;5;28menumerate\u001b[39m(slide_parts):\n\u001b[32m     33\u001b[39m     \u001b[38;5;66;03m# Process the raw part first, then strip for content checks\u001b[39;00m\n\u001b[32m---> \u001b[39m\u001b[32m34\u001b[39m     processed_slide = \u001b[38;5;28;43mself\u001b[39;49m\u001b[43m.\u001b[49m\u001b[43m_process_slide_content\u001b[49m\u001b[43m(\u001b[49m\n\u001b[32m     35\u001b[39m \u001b[43m        \u001b[49m\u001b[43mslide_content_part\u001b[49m\u001b[43m,\u001b[49m\u001b[43m \u001b[49m\u001b[43mi\u001b[49m\u001b[43m,\u001b[49m\u001b[43m \u001b[49m\u001b[33;43mf\u001b[39;49m\u001b[33;43m\"\u001b[39;49m\u001b[33;43mslide_\u001b[39;49m\u001b[38;5;132;43;01m{\u001b[39;49;00m\u001b[43mi\u001b[49m\u001b[38;5;132;43;01m}\u001b[39;49;00m\u001b[33;43m_\u001b[39;49m\u001b[38;5;132;43;01m{\u001b[39;49;00m\u001b[43muuid\u001b[49m\u001b[43m.\u001b[49m\u001b[43muuid4\u001b[49m\u001b[43m(\u001b[49m\u001b[43m)\u001b[49m\u001b[43m.\u001b[49m\u001b[43mhex\u001b[49m\u001b[43m[\u001b[49m\u001b[43m:\u001b[49m\u001b[32;43m6\u001b[39;49m\u001b[43m]\u001b[49m\u001b[38;5;132;43;01m}\u001b[39;49;00m\u001b[33;43m\"\u001b[39;49m\n\u001b[32m     36\u001b[39m \u001b[43m    \u001b[49m\u001b[43m)\u001b[49m\n\u001b[32m     37\u001b[39m     \u001b[38;5;66;03m# Only add if processed slide has meaningful content or title\u001b[39;00m\n\u001b[32m     38\u001b[39m     \u001b[38;5;28;01mif\u001b[39;00m (\n\u001b[32m     39\u001b[39m         processed_slide[\u001b[33m\"\u001b[39m\u001b[33mtitle\u001b[39m\u001b[33m\"\u001b[39m]\n\u001b[32m     40\u001b[39m         \u001b[38;5;129;01mor\u001b[39;00m processed_slide[\u001b[33m\"\u001b[39m\u001b[33mcontent\u001b[39m\u001b[33m\"\u001b[39m].strip()\n\u001b[32m     41\u001b[39m         \u001b[38;5;129;01mor\u001b[39;00m processed_slide[\u001b[33m\"\u001b[39m\u001b[33mfooter\u001b[39m\u001b[33m\"\u001b[39m]\n\u001b[32m     42\u001b[39m         \u001b[38;5;129;01mor\u001b[39;00m processed_slide[\u001b[33m\"\u001b[39m\u001b[33mnotes\u001b[39m\u001b[33m\"\u001b[39m]\n\u001b[32m     43\u001b[39m     ):\n",
      "\u001b[36mFile \u001b[39m\u001b[32m~/Workspace/Rizz-Buzz/arclio-mcp-tooling/packages/markdowndeck/src/markdowndeck/parser/slide_extractor.py:198\u001b[39m, in \u001b[36mSlideExtractor._process_slide_content\u001b[39m\u001b[34m(self, content, index, slide_object_id)\u001b[39m\n\u001b[32m    193\u001b[39m     content_after_title = re.sub(\n\u001b[32m    194\u001b[39m         title_line_pattern, \u001b[33m\"\u001b[39m\u001b[33m\"\u001b[39m, content_after_title, count=\u001b[32m1\u001b[39m, flags=re.MULTILINE\n\u001b[32m    195\u001b[39m     )\n\u001b[32m    197\u001b[39m \u001b[38;5;66;03m# Extract speaker notes from content_after_title\u001b[39;00m\n\u001b[32m--> \u001b[39m\u001b[32m198\u001b[39m notes_from_content = \u001b[38;5;28;43mself\u001b[39;49m\u001b[43m.\u001b[49m\u001b[43m_extract_notes\u001b[49m\u001b[43m(\u001b[49m\u001b[43mcontent_after_title\u001b[49m\u001b[43m)\u001b[49m\n\u001b[32m    199\u001b[39m \u001b[38;5;28;01mif\u001b[39;00m notes_from_content:\n\u001b[32m    200\u001b[39m     notes_pattern_to_remove = \u001b[33mr\u001b[39m\u001b[33m\"\u001b[39m\u001b[33m\"\u001b[39m  \u001b[38;5;66;03m# Non-greedy match for notes\u001b[39;00m\n",
      "\u001b[36mFile \u001b[39m\u001b[32m~/Workspace/Rizz-Buzz/arclio-mcp-tooling/packages/markdowndeck/src/markdowndeck/parser/slide_extractor.py:255\u001b[39m, in \u001b[36mSlideExtractor._extract_notes\u001b[39m\u001b[34m(self, content)\u001b[39m\n\u001b[32m    253\u001b[39m notes_pattern = \u001b[33mr\u001b[39m\u001b[33m\"\u001b[39m\u001b[33m\"\u001b[39m  \u001b[38;5;66;03m# Non-greedy match\u001b[39;00m\n\u001b[32m    254\u001b[39m match = re.search(notes_pattern, content, re.DOTALL)\n\u001b[32m--> \u001b[39m\u001b[32m255\u001b[39m \u001b[38;5;28;01mreturn\u001b[39;00m \u001b[43mmatch\u001b[49m\u001b[43m.\u001b[49m\u001b[43mgroup\u001b[49m\u001b[43m(\u001b[49m\u001b[32;43m1\u001b[39;49m\u001b[43m)\u001b[49m.strip() \u001b[38;5;28;01mif\u001b[39;00m match \u001b[38;5;28;01melse\u001b[39;00m \u001b[38;5;28;01mNone\u001b[39;00m\n",
      "\u001b[31mIndexError\u001b[39m: no such group"
     ]
    }
   ],
   "source": [
    "slide_extractor_diag = SlideExtractor()\n",
    "raw_slides_data_diag = slide_extractor_diag.extract_slides(diagnostic_markdown_input)\n",
    "\n",
    "print(f\"Number of slides extracted: {len(raw_slides_data_diag)}\")\n",
    "# Optionally print the full raw_slides_data_diag for deep inspection:\n",
    "# print(\"\\n--- Full Raw Slides Data (Diagnostic) ---\")\n",
    "# pprint_obj_diag(raw_slides_data_diag)\n",
    "\n",
    "# Print summary of each extracted slide\n",
    "for i, slide_data in enumerate(raw_slides_data_diag):\n",
    "    print(f\"\\n--- Raw Data for Extracted Slide {i+1} ---\")\n",
    "    print(f\"  Title: {slide_data.get('title', 'N/A')[:50]}...\")\n",
    "    print(f\"  Content Preview: {slide_data.get('content', '')[:100].replace(chr(10), ' ')}...\") # Show content on one line for preview\n",
    "    print(f\"  Footer: {slide_data.get('footer')}\")\n",
    "    print(f\"  Notes Present: {'Yes' if slide_data.get('notes') else 'No'}\")\n",
    "    print(f\"  Background: {slide_data.get('background')}\")\n",
    "    print(f\"  Object ID: {slide_data.get('object_id')}\")\n"
   ]
  },
  {
   "cell_type": "markdown",
   "metadata": {},
   "source": [
    "## ▶️ Pipeline Step 2: Full Parsing (MdDeckParser)\n",
    "\n",
    "The `MdDeckParser` orchestrates `SectionParser`, `DirectiveParser`, and `ContentParser` to convert the raw slide data into a structured `Deck` object containing `Slide` objects. Each `Slide` will have its `elements` list populated (flat list of all elements) and its `sections` attribute holding the hierarchical section structure (where each `Section` also has its own `elements` list).\n"
   ]
  },
  {
   "cell_type": "code",
   "execution_count": null,
   "metadata": {},
   "outputs": [
    {
     "ename": "",
     "evalue": "",
     "output_type": "error",
     "traceback": [
      "\u001b[1;31mnotebook controller is DISPOSED. \n",
      "\u001b[1;31mView Jupyter <a href='command:jupyter.viewOutput'>log</a> for further details."
     ]
    }
   ],
   "source": [
    "main_parser_diag = MdDeckParser()\n",
    "\n",
    "# Provide a title for the deck\n",
    "deck_title_diag = \"Diagnostic Deck - Real World Example\"\n",
    "parsed_deck_unlaid = main_parser_diag.parse(diagnostic_markdown_input, title=deck_title_diag)\n",
    "\n",
    "\n",
    "print(\"\\n--- Full Parsed Deck (Unlaid) JSON ---\")\n",
    "pprint_obj_diag(parsed_deck_unlaid)"
   ]
  },
  {
   "cell_type": "markdown",
   "metadata": {},
   "source": [
    "## ▶️ Pipeline Step 3: Layout Management\n",
    "\n",
    "The `LayoutManager` processes the `parsed_deck_unlaid` to calculate positions and sizes for all sections and elements. It handles section-based layouts, directives, and potential content overflow.\n"
   ]
  },
  {
   "cell_type": "code",
   "execution_count": null,
   "metadata": {},
   "outputs": [
    {
     "ename": "",
     "evalue": "",
     "output_type": "error",
     "traceback": [
      "\u001b[1;31mnotebook controller is DISPOSED. \n",
      "\u001b[1;31mView Jupyter <a href='command:jupyter.viewOutput'>log</a> for further details."
     ]
    }
   ],
   "source": [
    "layout_manager_diag = LayoutManager()\n",
    "deck_after_layout_diag = deepcopy(parsed_deck_unlaid) # Work on a copy\n",
    "\n",
    "final_laid_out_slides_diag = []\n",
    "if deck_after_layout_diag.slides:\n",
    "    for i, current_slide_to_layout in enumerate(list(deck_after_layout_diag.slides)):\n",
    "        print(f\"\\n--- Processing Layout for Parsed Slide {i+1} (Object ID: {current_slide_to_layout.object_id}) ---\")\n",
    "\n",
    "        # Safeguard for element sizes (as in original notebook)\n",
    "        # This ensures elements have a preliminary size before PositionCalculator refines them.\n",
    "        # It's important for elements within sections too.\n",
    "        def ensure_default_sizes(elements_list):\n",
    "            for el in elements_list:\n",
    "                if not hasattr(el, \"size\") or el.size is None:\n",
    "                    el.size = (layout_manager_diag.max_content_width, 50) # A generic default\n",
    "\n",
    "        ensure_default_sizes(current_slide_to_layout.elements)\n",
    "        for sec_top in current_slide_to_layout.sections:\n",
    "            ensure_default_sizes(sec_top.elements)\n",
    "            if hasattr(sec_top, 'subsections'):\n",
    "                for subsec in sec_top.subsections:\n",
    "                    ensure_default_sizes(subsec.elements)\n",
    "\n",
    "        slide_or_slides_list_from_layout = layout_manager_diag.calculate_positions(current_slide_to_layout)\n",
    "\n",
    "        if isinstance(slide_or_slides_list_from_layout, list):\n",
    "            print(f\"  LayoutManager returned {len(slide_or_slides_list_from_layout)} slides (overflow might have occurred).\")\n",
    "            final_laid_out_slides_diag.extend(slide_or_slides_list_from_layout)\n",
    "        else: # Should be a single Slide instance\n",
    "            print(\"  LayoutManager returned a single slide instance.\")\n",
    "            final_laid_out_slides_diag.append(slide_or_slides_list_from_layout)\n",
    "\n",
    "    deck_after_layout_diag.slides = final_laid_out_slides_diag\n",
    "else:\n",
    "    print(\"No slides in parsed_deck_unlaid to process for layout.\")\n",
    "\n",
    "print(f\"\\n--- Deck After Layout (Total Slides: {len(deck_after_layout_diag.slides)}) ---\")\n",
    "print(\"\\n--- Full Deck After Layout (JSON) ---\")\n",
    "pprint_obj_diag(deck_after_layout_diag)\n"
   ]
  },
  {
   "cell_type": "code",
   "execution_count": null,
   "metadata": {},
   "outputs": [
    {
     "ename": "",
     "evalue": "",
     "output_type": "error",
     "traceback": [
      "\u001b[1;31mnotebook controller is DISPOSED. \n",
      "\u001b[1;31mView Jupyter <a href='command:jupyter.viewOutput'>log</a> for further details."
     ]
    }
   ],
   "source": [
    "\n",
    "# Print summary of positions and sizes for elements on a specific slide (e.g., the last one which had issues)\n",
    "if deck_after_layout_diag.slides:\n",
    "    slide_to_inspect_idx = -1 # Inspect the last slide\n",
    "    inspected_slide = deck_after_layout_diag.slides[slide_to_inspect_idx]\n",
    "    print(f\"\\n--- Layout Details for Slide {len(deck_after_layout_diag.slides)} (ID: {inspected_slide.object_id}) ---\")\n",
    "    for el_idx, el in enumerate(inspected_slide.elements):\n",
    "        pos = list(el.position) if hasattr(el, 'position') and el.position else \"N/A\"\n",
    "        sz = list(el.size) if hasattr(el, 'size') and el.size else \"N/A\"\n",
    "        print(f\"  Element {el_idx} ({el.element_type.value}): Pos={pos}, Size={sz}\")\n",
    "        if hasattr(el, 'text') and el.text:\n",
    "             print(f\"    Text: {el.text[:40].replace(chr(10), ' ')}...\")\n",
    "        elif hasattr(el, 'url') and el.url:\n",
    "             print(f\"    URL: {el.url[:40]}...\")\n",
    "\n",
    "    # Also inspect section geometry if needed\n",
    "    print(\"\\n  --- Section Geometries ---\")\n",
    "    def print_section_geo(sections, indent=0):\n",
    "        for s in sections:\n",
    "            prefix = \"  \" * indent\n",
    "            s_pos = list(s.position) if s.position else \"N/A\"\n",
    "            s_sz = list(s.size) if s.size else \"N/A\"\n",
    "            print(f\"{prefix}Section ID: {s.id}, Type: {s.type}, Pos: {s_pos}, Size: {s_sz}\")\n",
    "            if s.subsections:\n",
    "                print_section_geo(s.subsections, indent + 1)\n",
    "    print_section_geo(inspected_slide.sections)\n"
   ]
  },
  {
   "cell_type": "markdown",
   "metadata": {},
   "source": [
    "## ▶️ Pipeline Step 4: Visualization (Using Enhanced Visualizer)\n",
    "\n",
    "Here, we'll use the `SlideVisualizer` from the `markdowndeck.visualization` submodule to render the `deck_after_layout_diag`. This step is crucial for visually inspecting the element placements, sizes, and potential overlaps.\n",
    "\n",
    "**Note:** The enhancements to `SlideVisualizer` (Task 2 in your request) are intended to make this output more faithful to the intended styling, including colors, relative font sizes, and displaying images from URLs. For this notebook generation, we'll call it assuming these enhancements will be implemented in the submodule.\n"
   ]
  },
  {
   "cell_type": "code",
   "execution_count": null,
   "metadata": {},
   "outputs": [
    {
     "ename": "",
     "evalue": "",
     "output_type": "error",
     "traceback": [
      "\u001b[1;31mnotebook controller is DISPOSED. \n",
      "\u001b[1;31mView Jupyter <a href='command:jupyter.viewOutput'>log</a> for further details."
     ]
    }
   ],
   "source": [
    "visualizer_diag = SlideVisualizer()\n",
    "\n",
    "if deck_after_layout_diag.slides:\n",
    "    print(\n",
    "        f\"\\n--- Visualizing All {len(deck_after_layout_diag.slides)} Slides (with Enhanced Visualizer) ---\"\n",
    "    )\n",
    "\n",
    "    # Use auto-sizing with appropriate layout mode\n",
    "    visualizer_diag.visualize(\n",
    "        deck_after_layout_diag,\n",
    "        scale_factor=1.0,                 # Make slides larger\n",
    "        vertical_spacing=0.05,            # Minimal vertical spacing (5%)\n",
    "        horizontal_spacing=0.025,          # Minimal horizontal spacing (5%)\n",
    "        layout_mode=\"grid\" if len(deck_after_layout_diag.slides) > 20 else \"vertical\"\n",
    "    )\n",
    "else:\n",
    "    print(\"No slides with layout data to visualize.\")"
   ]
  },
  {
   "cell_type": "markdown",
   "metadata": {},
   "source": [
    "**Interpreting the Visualization:**\n",
    "\n",
    "* Carefully examine the output for element overlaps, incorrect sizing, or misplacements, especially on slides known to have issues from the `example_real_world_markdown`.\n",
    "* The visualization should eventually reflect:\n",
    "    * Element background colors from `[background=...]` directives.\n",
    "    * Relative font sizes from `[fontsize=...]`.\n",
    "    * Text colors from `[color=...]`.\n",
    "    * Attempted rendering of images from URLs.\n",
    "    * Clear demarcation of section boundaries.\n",
    "* This visual output, combined with the JSON dumps of the `Slide` and `Element` models (with their `position` and `size` attributes), provides the data needed to debug layout problems. The warnings from `LayoutManager` (e.g., \"Element ... would overflow\") in the logs should also correlate with visual issues.\n"
   ]
  },
  {
   "cell_type": "markdown",
   "metadata": {},
   "source": [
    "## ▶️ Pipeline Step 5: API Request Generation\n",
    "\n",
    "Finally, the `ApiRequestGenerator` converts the laid-out `Deck` object into the batches of JSON requests that would be sent to the Google Slides API. Inspecting these requests can be useful for debugging API-level issues if they were still occurring.\n"
   ]
  },
  {
   "cell_type": "code",
   "execution_count": null,
   "metadata": {},
   "outputs": [
    {
     "ename": "",
     "evalue": "",
     "output_type": "error",
     "traceback": [
      "\u001b[1;31mnotebook controller is DISPOSED. \n",
      "\u001b[1;31mView Jupyter <a href='command:jupyter.viewOutput'>log</a> for further details."
     ]
    }
   ],
   "source": [
    "api_request_generator_diag = ApiRequestGenerator()\n",
    "api_batches_diag = []\n",
    "\n",
    "if deck_after_layout_diag.slides:\n",
    "    print(f\"\\n--- Generating API Requests for Diagnostic Deck ({len(deck_after_layout_diag.slides)} slide(s)) ---\")\n",
    "    placeholder_presentation_id_diag = \"DIAGNOSTIC_PLACEHOLDER_ID\"\n",
    "\n",
    "    try:\n",
    "        api_batches_diag = api_request_generator_diag.generate_batch_requests(\n",
    "            deck_after_layout_diag, placeholder_presentation_id_diag\n",
    "        )\n",
    "\n",
    "        print(f\"\\n--- Summary of Generated API Batches (Diagnostic) ---\")\n",
    "        print(f\"Total batches generated: {len(api_batches_diag)}\")\n",
    "        for i, batch in enumerate(api_batches_diag):\n",
    "            print(f\"  Batch {i+1}: For Slide corresponding to original index ~{i}, #Requests: {len(batch.get('requests', []))}\")\n",
    "            # Note: Slide correspondence might shift if overflow occurred.\n",
    "            # The 'objectId' in the createSlide request is the best link.\n",
    "            if batch.get(\"requests\") and batch['requests'][0].get('createSlide'):\n",
    "                 print(f\"    Target Slide objectId: {batch['requests'][0]['createSlide'].get('objectId')}\")\n",
    "\n",
    "\n",
    "        # Optionally, print the full JSON for a specific batch (e.g., the one for the problematic slide)\n",
    "        # slide_with_layout_issues_idx = 5 # Example: If the 6th slide had issues\n",
    "        # if len(api_batches_diag) > slide_with_layout_issues_idx:\n",
    "        #     print(f\"\\n--- Full JSON for Batch {slide_with_layout_issues_idx + 1} (Diagnostic) ---\")\n",
    "        #     pprint_obj_diag(api_batches_diag[slide_with_layout_issues_idx])\n",
    "        # else:\n",
    "        #     print(f\"\\n--- Full JSON for First Batch (Diagnostic) ---\") # Fallback to first if index is out of bounds\n",
    "        #     if api_batches_diag:\n",
    "        #         pprint_obj_diag(api_batches_diag[0])\n",
    "\n",
    "\n",
    "    except Exception as e:\n",
    "        print(f\"An error occurred during API request generation for diagnostic deck: {e}\")\n",
    "        logging.exception(\"API Request Generation Error Details (Diagnostic):\")\n",
    "else:\n",
    "    print(\"No slides in deck_after_layout_diag to generate API requests for.\")\n"
   ]
  },
  {
   "cell_type": "markdown",
   "metadata": {},
   "source": [
    "## 🧪 Diagnostic Conclusion\n",
    "\n",
    "This notebook provides a framework for testing arbitrary Markdown inputs with MarkdownDeck. By examining:\n",
    "1.  The logs generated by the library (especially `DEBUG` level for layout components).\n",
    "2.  The intermediate `Deck`, `Slide`, `Section`, and `Element` model states (via JSON dumps).\n",
    "3.  The visual rendering of the slide layouts.\n",
    "4.  The final generated API requests."
   ]
  }
 ],
 "metadata": {
  "kernelspec": {
   "display_name": ".venv",
   "language": "python",
   "name": "python3"
  },
  "language_info": {
   "codemirror_mode": {
    "name": "ipython",
    "version": 3
   },
   "file_extension": ".py",
   "mimetype": "text/x-python",
   "name": "python",
   "nbconvert_exporter": "python",
   "pygments_lexer": "ipython3",
   "version": "3.13.2"
  }
 },
 "nbformat": 4,
 "nbformat_minor": 2
}
